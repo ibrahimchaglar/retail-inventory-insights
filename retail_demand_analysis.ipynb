{
 "cells": [
  {
   "cell_type": "code",
   "execution_count": 1,
   "id": "521566ae-9410-4b49-af54-086f05986577",
   "metadata": {},
   "outputs": [],
   "source": [
    "import pandas as pd\n",
    "import numpy as np\n",
    "from scipy import stats\n",
    "import matplotlib.pyplot as plt"
   ]
  },
  {
   "cell_type": "code",
   "execution_count": 2,
   "id": "120e6da0-e227-404c-9ee0-64514f268dc3",
   "metadata": {},
   "outputs": [],
   "source": [
    "df = pd.read_csv(\"/Users/ibrahimcaglar/Desktop/Real Projects/Stock_optimization/Retail_Dataset2.csv\")"
   ]
  },
  {
   "cell_type": "code",
   "execution_count": 3,
   "id": "50656f59-f36e-43bd-8971-eae23d4e57aa",
   "metadata": {},
   "outputs": [
    {
     "data": {
      "text/html": [
       "<div>\n",
       "<style scoped>\n",
       "    .dataframe tbody tr th:only-of-type {\n",
       "        vertical-align: middle;\n",
       "    }\n",
       "\n",
       "    .dataframe tbody tr th {\n",
       "        vertical-align: top;\n",
       "    }\n",
       "\n",
       "    .dataframe thead th {\n",
       "        text-align: right;\n",
       "    }\n",
       "</style>\n",
       "<table border=\"1\" class=\"dataframe\">\n",
       "  <thead>\n",
       "    <tr style=\"text-align: right;\">\n",
       "      <th></th>\n",
       "      <th>Product_id</th>\n",
       "      <th>Product_Code</th>\n",
       "      <th>Warehouse</th>\n",
       "      <th>Product_Category</th>\n",
       "      <th>Date</th>\n",
       "      <th>Order_Demand</th>\n",
       "      <th>Open</th>\n",
       "      <th>Promo</th>\n",
       "      <th>StateHoliday</th>\n",
       "      <th>SchoolHoliday</th>\n",
       "      <th>Petrol_price</th>\n",
       "    </tr>\n",
       "  </thead>\n",
       "  <tbody>\n",
       "    <tr>\n",
       "      <th>0</th>\n",
       "      <td>786725</td>\n",
       "      <td>Product_0033</td>\n",
       "      <td>Whse_S</td>\n",
       "      <td>Category_005</td>\n",
       "      <td>01/03/2016</td>\n",
       "      <td>16000</td>\n",
       "      <td>1</td>\n",
       "      <td>0</td>\n",
       "      <td>0</td>\n",
       "      <td>0</td>\n",
       "      <td>91</td>\n",
       "    </tr>\n",
       "    <tr>\n",
       "      <th>1</th>\n",
       "      <td>786743</td>\n",
       "      <td>Product_1825</td>\n",
       "      <td>Whse_S</td>\n",
       "      <td>Category_006</td>\n",
       "      <td>01/03/2016</td>\n",
       "      <td>50000</td>\n",
       "      <td>1</td>\n",
       "      <td>0</td>\n",
       "      <td>0</td>\n",
       "      <td>0</td>\n",
       "      <td>85</td>\n",
       "    </tr>\n",
       "    <tr>\n",
       "      <th>2</th>\n",
       "      <td>786967</td>\n",
       "      <td>Product_0551</td>\n",
       "      <td>Whse_S</td>\n",
       "      <td>Category_030</td>\n",
       "      <td>01/03/2016</td>\n",
       "      <td>3000</td>\n",
       "      <td>1</td>\n",
       "      <td>0</td>\n",
       "      <td>0</td>\n",
       "      <td>0</td>\n",
       "      <td>85</td>\n",
       "    </tr>\n",
       "    <tr>\n",
       "      <th>3</th>\n",
       "      <td>786856</td>\n",
       "      <td>Product_0556</td>\n",
       "      <td>Whse_S</td>\n",
       "      <td>Category_030</td>\n",
       "      <td>01/03/2016</td>\n",
       "      <td>1000</td>\n",
       "      <td>1</td>\n",
       "      <td>0</td>\n",
       "      <td>0</td>\n",
       "      <td>0</td>\n",
       "      <td>93</td>\n",
       "    </tr>\n",
       "    <tr>\n",
       "      <th>4</th>\n",
       "      <td>899538</td>\n",
       "      <td>Product_1844</td>\n",
       "      <td>Whse_A</td>\n",
       "      <td>Category_018</td>\n",
       "      <td>01/03/2016</td>\n",
       "      <td>7</td>\n",
       "      <td>1</td>\n",
       "      <td>0</td>\n",
       "      <td>0</td>\n",
       "      <td>0</td>\n",
       "      <td>95</td>\n",
       "    </tr>\n",
       "    <tr>\n",
       "      <th>...</th>\n",
       "      <td>...</td>\n",
       "      <td>...</td>\n",
       "      <td>...</td>\n",
       "      <td>...</td>\n",
       "      <td>...</td>\n",
       "      <td>...</td>\n",
       "      <td>...</td>\n",
       "      <td>...</td>\n",
       "      <td>...</td>\n",
       "      <td>...</td>\n",
       "      <td>...</td>\n",
       "    </tr>\n",
       "    <tr>\n",
       "      <th>169206</th>\n",
       "      <td>993496</td>\n",
       "      <td>Product_1368</td>\n",
       "      <td>Whse_A</td>\n",
       "      <td>Category_019</td>\n",
       "      <td>11/23/2016</td>\n",
       "      <td>1400</td>\n",
       "      <td>0</td>\n",
       "      <td>0</td>\n",
       "      <td>a</td>\n",
       "      <td>1</td>\n",
       "      <td>84</td>\n",
       "    </tr>\n",
       "    <tr>\n",
       "      <th>169207</th>\n",
       "      <td>869587</td>\n",
       "      <td>Product_0094</td>\n",
       "      <td>Whse_S</td>\n",
       "      <td>Category_019</td>\n",
       "      <td>11/23/2016</td>\n",
       "      <td>5000</td>\n",
       "      <td>0</td>\n",
       "      <td>0</td>\n",
       "      <td>a</td>\n",
       "      <td>1</td>\n",
       "      <td>80</td>\n",
       "    </tr>\n",
       "    <tr>\n",
       "      <th>169208</th>\n",
       "      <td>898180</td>\n",
       "      <td>Product_2074</td>\n",
       "      <td>Whse_A</td>\n",
       "      <td>Category_009</td>\n",
       "      <td>11/23/2016</td>\n",
       "      <td>40</td>\n",
       "      <td>0</td>\n",
       "      <td>0</td>\n",
       "      <td>a</td>\n",
       "      <td>1</td>\n",
       "      <td>81</td>\n",
       "    </tr>\n",
       "    <tr>\n",
       "      <th>169209</th>\n",
       "      <td>898179</td>\n",
       "      <td>Product_2074</td>\n",
       "      <td>Whse_A</td>\n",
       "      <td>Category_009</td>\n",
       "      <td>11/23/2016</td>\n",
       "      <td>10</td>\n",
       "      <td>0</td>\n",
       "      <td>0</td>\n",
       "      <td>a</td>\n",
       "      <td>1</td>\n",
       "      <td>83</td>\n",
       "    </tr>\n",
       "    <tr>\n",
       "      <th>169210</th>\n",
       "      <td>993497</td>\n",
       "      <td>Product_1368</td>\n",
       "      <td>Whse_A</td>\n",
       "      <td>Category_019</td>\n",
       "      <td>11/23/2016</td>\n",
       "      <td>0</td>\n",
       "      <td>0</td>\n",
       "      <td>0</td>\n",
       "      <td>a</td>\n",
       "      <td>1</td>\n",
       "      <td>80</td>\n",
       "    </tr>\n",
       "  </tbody>\n",
       "</table>\n",
       "<p>169211 rows × 11 columns</p>\n",
       "</div>"
      ],
      "text/plain": [
       "        Product_id  Product_Code Warehouse Product_Category        Date  \\\n",
       "0           786725  Product_0033    Whse_S     Category_005  01/03/2016   \n",
       "1           786743  Product_1825    Whse_S     Category_006  01/03/2016   \n",
       "2           786967  Product_0551    Whse_S     Category_030  01/03/2016   \n",
       "3           786856  Product_0556    Whse_S     Category_030  01/03/2016   \n",
       "4           899538  Product_1844    Whse_A     Category_018  01/03/2016   \n",
       "...            ...           ...       ...              ...         ...   \n",
       "169206      993496  Product_1368    Whse_A     Category_019  11/23/2016   \n",
       "169207      869587  Product_0094    Whse_S     Category_019  11/23/2016   \n",
       "169208      898180  Product_2074    Whse_A     Category_009  11/23/2016   \n",
       "169209      898179  Product_2074    Whse_A     Category_009  11/23/2016   \n",
       "169210      993497  Product_1368    Whse_A     Category_019  11/23/2016   \n",
       "\n",
       "        Order_Demand  Open  Promo StateHoliday  SchoolHoliday  Petrol_price  \n",
       "0              16000     1      0            0              0            91  \n",
       "1              50000     1      0            0              0            85  \n",
       "2               3000     1      0            0              0            85  \n",
       "3               1000     1      0            0              0            93  \n",
       "4                  7     1      0            0              0            95  \n",
       "...              ...   ...    ...          ...            ...           ...  \n",
       "169206          1400     0      0            a              1            84  \n",
       "169207          5000     0      0            a              1            80  \n",
       "169208            40     0      0            a              1            81  \n",
       "169209            10     0      0            a              1            83  \n",
       "169210             0     0      0            a              1            80  \n",
       "\n",
       "[169211 rows x 11 columns]"
      ]
     },
     "execution_count": 3,
     "metadata": {},
     "output_type": "execute_result"
    }
   ],
   "source": [
    "df"
   ]
  },
  {
   "cell_type": "markdown",
   "id": "1ae48444-2670-4efa-948c-dd70e51d63ca",
   "metadata": {},
   "source": [
    "### What is the start date and end date of this analysis?"
   ]
  },
  {
   "cell_type": "code",
   "execution_count": 5,
   "id": "d881a170-c60b-4b54-9041-d2cebad3baef",
   "metadata": {},
   "outputs": [
    {
     "name": "stdout",
     "output_type": "stream",
     "text": [
      "Start Date: 2016-01-03 00:00:00\n",
      "End Date: 2016-11-23 00:00:00\n"
     ]
    }
   ],
   "source": [
    "# Convert the 'Date' column to datetime format\n",
    "df[\"Date\"] = pd.to_datetime(df[\"Date\"])\n",
    "\n",
    "# Get the earliest and latest dates in the dataset\n",
    "start_date = df[\"Date\"].min()\n",
    "end_date = df[\"Date\"].max()\n",
    "\n",
    "print(\"Start Date:\", start_date)\n",
    "print(\"End Date:\", end_date)"
   ]
  },
  {
   "cell_type": "markdown",
   "id": "341437f5-841a-4f9c-b853-8179f2284760",
   "metadata": {},
   "source": [
    "## 📦 Dataset Overview: Retail Demand Forecasting\n",
    "\n",
    "This dataset contains historical demand records from a retail company, aiming to support demand forecasting and inventory optimization tasks.\n",
    "\n",
    "Each row represents the **daily demand** (i.e., number of units ordered) for a specific product, shipped from a specific warehouse, on a given date.\n",
    "\n",
    "### 📄 Column Descriptions:\n",
    "\n",
    "| Column Name      | Description |\n",
    "|------------------|-------------|\n",
    "| **Product_id**       | Unique identifier for each record (can be ignored for modeling). |\n",
    "| **Product_Code**     | Coded identifier for the product. |\n",
    "| **Warehouse**        | Warehouse code from which the product is shipped (e.g., Whse_S, Whse_A). |\n",
    "| **Product_Category** | Categorical label representing the product's type/category. |\n",
    "| **Date**             | Date of the order (format: mm/dd/yyyy). |\n",
    "| **Order_Demand**     | Number of units ordered on that specific date (target variable). |\n",
    "| **Open**             | Whether the warehouse was open on that day (1 = Open, 0 = Closed). |\n",
    "| **Promo**            | Whether the product had a promotional offer (1 = Yes, 0 = No). |\n",
    "| **StateHoliday**     | Indicates if there was a state holiday (`a` = public holiday, `0` = no holiday). |\n",
    "| **SchoolHoliday**    | Indicates if schools were closed that day (1 = Holiday, 0 = No Holiday). |\n",
    "| **Petrol_price**     | Petrol price on that day (used to estimate logistics cost impact). |\n",
    "\n",
    "### Objective\n",
    "The objective of this project is to analyze historical product demand and generate actionable insights for inventory planning, warehouse optimization, and product prioritization.  \n",
    "While external factors such as promotions and holidays were initially considered, they were excluded due to limited impact.  \n",
    "The final output includes demand trend analysis, ABC classification, and product-warehouse demand mapping."
   ]
  },
  {
   "cell_type": "markdown",
   "id": "d901483c-dfc0-4ccd-acf4-7daf7b45461b",
   "metadata": {},
   "source": [
    "# Outlier Detection"
   ]
  },
  {
   "cell_type": "markdown",
   "id": "61ad976e-9782-4371-a77b-5a0d2fc78dda",
   "metadata": {},
   "source": [
    "### for Order Demand"
   ]
  },
  {
   "cell_type": "code",
   "execution_count": 9,
   "id": "db35af44-2c05-48ee-95ce-9a54e3542c2d",
   "metadata": {},
   "outputs": [
    {
     "data": {
      "text/plain": [
       "count    1.692110e+05\n",
       "mean     5.248118e+03\n",
       "std      3.116296e+04\n",
       "min      0.000000e+00\n",
       "25%      2.000000e+01\n",
       "50%      3.000000e+02\n",
       "75%      2.000000e+03\n",
       "max      2.500000e+06\n",
       "Name: Order_Demand, dtype: float64"
      ]
     },
     "execution_count": 9,
     "metadata": {},
     "output_type": "execute_result"
    }
   ],
   "source": [
    "df[\"Order_Demand\"].describe()"
   ]
  },
  {
   "cell_type": "code",
   "execution_count": 10,
   "id": "773894ba-a629-447a-8542-c724a9540555",
   "metadata": {},
   "outputs": [
    {
     "name": "stdout",
     "output_type": "stream",
     "text": [
      "Number of outliers: 1567\n"
     ]
    }
   ],
   "source": [
    "# Z-score calculation for the 'Order Demand' column\n",
    "z_scores = stats.zscore(df[\"Order_Demand\"])\n",
    "\n",
    "# Outlier threshold\n",
    "threshold = 3\n",
    "\n",
    "# Identify Outliers\n",
    "outliers = df[np.abs(z_scores) > threshold]\n",
    "print(\"Number of outliers:\", len(outliers))"
   ]
  },
  {
   "cell_type": "code",
   "execution_count": 11,
   "id": "4fd6606b-ef03-48be-8ec5-ebdd8cca4954",
   "metadata": {},
   "outputs": [],
   "source": [
    "# Outlier removal\n",
    "df = df[np.abs(z_scores) <= threshold]"
   ]
  },
  {
   "cell_type": "code",
   "execution_count": 12,
   "id": "2bfb31aa-fe0e-498f-a45a-2d16735b47ba",
   "metadata": {
    "scrolled": true
   },
   "outputs": [
    {
     "data": {
      "text/plain": [
       "(167644, 11)"
      ]
     },
     "execution_count": 12,
     "metadata": {},
     "output_type": "execute_result"
    }
   ],
   "source": [
    "df.shape"
   ]
  },
  {
   "cell_type": "markdown",
   "id": "8308fff1-8a04-4cfe-baa5-9e9ac538a22e",
   "metadata": {},
   "source": [
    "### for Petrol Price"
   ]
  },
  {
   "cell_type": "code",
   "execution_count": 14,
   "id": "d3ec5223-f49f-407c-a5a3-5b956bc59807",
   "metadata": {},
   "outputs": [
    {
     "data": {
      "text/plain": [
       "count    167644.000000\n",
       "mean         87.985761\n",
       "std           4.909923\n",
       "min          80.000000\n",
       "25%          84.000000\n",
       "50%          88.000000\n",
       "75%          92.000000\n",
       "max          96.000000\n",
       "Name: Petrol_price, dtype: float64"
      ]
     },
     "execution_count": 14,
     "metadata": {},
     "output_type": "execute_result"
    }
   ],
   "source": [
    "df[\"Petrol_price\"].describe()"
   ]
  },
  {
   "cell_type": "code",
   "execution_count": 15,
   "id": "8433e986-2565-4b23-8faa-771b86f9ad46",
   "metadata": {},
   "outputs": [],
   "source": [
    "# No outliers"
   ]
  },
  {
   "cell_type": "markdown",
   "id": "f446472a-02f1-472a-89f4-7a38b0c64dcd",
   "metadata": {},
   "source": [
    "# Exploratory Data Analysis (EDA)"
   ]
  },
  {
   "cell_type": "markdown",
   "id": "ce3aea74-4b78-4b69-affa-c2fb0daa2867",
   "metadata": {},
   "source": [
    "### Detecting null values"
   ]
  },
  {
   "cell_type": "code",
   "execution_count": 18,
   "id": "b81d3fb3-e26b-483a-bfd4-d4cc1166daff",
   "metadata": {},
   "outputs": [
    {
     "data": {
      "text/plain": [
       "Product_id          0\n",
       "Product_Code        0\n",
       "Warehouse           0\n",
       "Product_Category    0\n",
       "Date                0\n",
       "Order_Demand        0\n",
       "Open                0\n",
       "Promo               0\n",
       "StateHoliday        0\n",
       "SchoolHoliday       0\n",
       "Petrol_price        0\n",
       "dtype: int64"
      ]
     },
     "execution_count": 18,
     "metadata": {},
     "output_type": "execute_result"
    }
   ],
   "source": [
    "df.isnull().sum()"
   ]
  },
  {
   "cell_type": "markdown",
   "id": "29be8035-8ca4-4eff-828f-9de021aa894b",
   "metadata": {},
   "source": [
    "### Warehouse Analysis"
   ]
  },
  {
   "cell_type": "code",
   "execution_count": 20,
   "id": "48eb492c-0231-4373-9177-f04f9a906f6e",
   "metadata": {},
   "outputs": [
    {
     "data": {
      "text/plain": [
       "4"
      ]
     },
     "execution_count": 20,
     "metadata": {},
     "output_type": "execute_result"
    }
   ],
   "source": [
    "df[\"Warehouse\"].nunique()"
   ]
  },
  {
   "cell_type": "code",
   "execution_count": 21,
   "id": "4efb522c-e2c1-4067-9eae-27d47c2dd338",
   "metadata": {},
   "outputs": [
    {
     "data": {
      "text/plain": [
       "array(['Whse_S', 'Whse_A', 'Whse_C', 'Whse_J'], dtype=object)"
      ]
     },
     "execution_count": 21,
     "metadata": {},
     "output_type": "execute_result"
    }
   ],
   "source": [
    "df[\"Warehouse\"].unique()"
   ]
  },
  {
   "cell_type": "markdown",
   "id": "0dccae86-032a-4892-8e02-bd6774a49af0",
   "metadata": {},
   "source": [
    "### 🏬 Warehouse Information\n",
    "\n",
    "The dataset includes records from **4 different warehouses**, which represent the distribution centers used by the company to fulfill product orders.\n",
    "\n",
    "**List of Warehouses:**\n",
    "- Whse_S\n",
    "- Whse_A\n",
    "- Whse_C\n",
    "- Whse_J\n",
    "\n",
    "Each warehouse appears multiple times in the dataset, as the data contains daily product demand entries per warehouse."
   ]
  },
  {
   "cell_type": "markdown",
   "id": "a6e8aa96-20b6-4abf-a54c-7eccba168230",
   "metadata": {},
   "source": [
    "### Product Analysis"
   ]
  },
  {
   "cell_type": "code",
   "execution_count": 24,
   "id": "7a2c7876-b61d-4afa-b434-4bdce4566785",
   "metadata": {},
   "outputs": [
    {
     "data": {
      "text/plain": [
       "30"
      ]
     },
     "execution_count": 24,
     "metadata": {},
     "output_type": "execute_result"
    }
   ],
   "source": [
    "df[\"Product_Category\"].nunique()"
   ]
  },
  {
   "cell_type": "code",
   "execution_count": 25,
   "id": "04dd1f6a-32a6-4784-b1bc-b7d4d302d653",
   "metadata": {},
   "outputs": [
    {
     "data": {
      "text/plain": [
       "array(['Category_005', 'Category_006', 'Category_030', 'Category_018',\n",
       "       'Category_028', 'Category_022', 'Category_019', 'Category_001',\n",
       "       'Category_021', 'Category_032', 'Category_012', 'Category_024',\n",
       "       'Category_003', 'Category_009', 'Category_007', 'Category_011',\n",
       "       'Category_017', 'Category_026', 'Category_023', 'Category_015',\n",
       "       'Category_008', 'Category_013', 'Category_031', 'Category_033',\n",
       "       'Category_020', 'Category_010', 'Category_027', 'Category_029',\n",
       "       'Category_016', 'Category_014'], dtype=object)"
      ]
     },
     "execution_count": 25,
     "metadata": {},
     "output_type": "execute_result"
    }
   ],
   "source": [
    "df[\"Product_Category\"].unique()"
   ]
  },
  {
   "cell_type": "code",
   "execution_count": 26,
   "id": "994da1d1-b30b-42e2-a6ef-ba57cfbfb714",
   "metadata": {},
   "outputs": [
    {
     "data": {
      "text/plain": [
       "2117"
      ]
     },
     "execution_count": 26,
     "metadata": {},
     "output_type": "execute_result"
    }
   ],
   "source": [
    "df[\"Product_Code\"].nunique()"
   ]
  },
  {
   "cell_type": "code",
   "execution_count": 27,
   "id": "6fd244ff-fc69-497f-8004-99f3f82c63b8",
   "metadata": {},
   "outputs": [
    {
     "data": {
      "text/html": [
       "<div>\n",
       "<style scoped>\n",
       "    .dataframe tbody tr th:only-of-type {\n",
       "        vertical-align: middle;\n",
       "    }\n",
       "\n",
       "    .dataframe tbody tr th {\n",
       "        vertical-align: top;\n",
       "    }\n",
       "\n",
       "    .dataframe thead th {\n",
       "        text-align: right;\n",
       "    }\n",
       "</style>\n",
       "<table border=\"1\" class=\"dataframe\">\n",
       "  <thead>\n",
       "    <tr style=\"text-align: right;\">\n",
       "      <th></th>\n",
       "      <th>Category_001</th>\n",
       "      <th>Category_003</th>\n",
       "      <th>Category_005</th>\n",
       "      <th>Category_006</th>\n",
       "      <th>Category_007</th>\n",
       "      <th>Category_008</th>\n",
       "      <th>Category_009</th>\n",
       "      <th>Category_010</th>\n",
       "      <th>Category_011</th>\n",
       "      <th>Category_012</th>\n",
       "      <th>...</th>\n",
       "      <th>Category_023</th>\n",
       "      <th>Category_024</th>\n",
       "      <th>Category_026</th>\n",
       "      <th>Category_027</th>\n",
       "      <th>Category_028</th>\n",
       "      <th>Category_029</th>\n",
       "      <th>Category_030</th>\n",
       "      <th>Category_031</th>\n",
       "      <th>Category_032</th>\n",
       "      <th>Category_033</th>\n",
       "    </tr>\n",
       "  </thead>\n",
       "  <tbody>\n",
       "    <tr>\n",
       "      <th>0</th>\n",
       "      <td>Product_1751</td>\n",
       "      <td>Product_1726</td>\n",
       "      <td>Product_0033</td>\n",
       "      <td>Product_1825</td>\n",
       "      <td>Product_0229</td>\n",
       "      <td>Product_0119</td>\n",
       "      <td>Product_2143</td>\n",
       "      <td>Product_1777</td>\n",
       "      <td>Product_0658</td>\n",
       "      <td>Product_0439</td>\n",
       "      <td>...</td>\n",
       "      <td>Product_0891</td>\n",
       "      <td>Product_1618</td>\n",
       "      <td>Product_1208</td>\n",
       "      <td>Product_2147</td>\n",
       "      <td>Product_0643</td>\n",
       "      <td>Product_1957</td>\n",
       "      <td>Product_0551</td>\n",
       "      <td>Product_1816</td>\n",
       "      <td>Product_1101</td>\n",
       "      <td>Product_1282</td>\n",
       "    </tr>\n",
       "    <tr>\n",
       "      <th>1</th>\n",
       "      <td>Product_0613</td>\n",
       "      <td>Product_1724</td>\n",
       "      <td>Product_0470</td>\n",
       "      <td>Product_1812</td>\n",
       "      <td>Product_0202</td>\n",
       "      <td>Product_0827</td>\n",
       "      <td>Product_2111</td>\n",
       "      <td>Product_1776</td>\n",
       "      <td>Product_0125</td>\n",
       "      <td>Product_0510</td>\n",
       "      <td>...</td>\n",
       "      <td>Product_0890</td>\n",
       "      <td>Product_1646</td>\n",
       "      <td>Product_1659</td>\n",
       "      <td>Product_0647</td>\n",
       "      <td>Product_0982</td>\n",
       "      <td>Product_1960</td>\n",
       "      <td>Product_0556</td>\n",
       "      <td>Product_1815</td>\n",
       "      <td>Product_0588</td>\n",
       "      <td>Product_1362</td>\n",
       "    </tr>\n",
       "    <tr>\n",
       "      <th>2</th>\n",
       "      <td>Product_0627</td>\n",
       "      <td>Product_1719</td>\n",
       "      <td>Product_1970</td>\n",
       "      <td>Product_0936</td>\n",
       "      <td>Product_0200</td>\n",
       "      <td>Product_0149</td>\n",
       "      <td>Product_2114</td>\n",
       "      <td>Product_1778</td>\n",
       "      <td>Product_0431</td>\n",
       "      <td>Product_0570</td>\n",
       "      <td>...</td>\n",
       "      <td>Product_0893</td>\n",
       "      <td>Product_1794</td>\n",
       "      <td>Product_1674</td>\n",
       "      <td>NaN</td>\n",
       "      <td>Product_0987</td>\n",
       "      <td>Product_1959</td>\n",
       "      <td>Product_0411</td>\n",
       "      <td>Product_1837</td>\n",
       "      <td>Product_0583</td>\n",
       "      <td>Product_1361</td>\n",
       "    </tr>\n",
       "    <tr>\n",
       "      <th>3</th>\n",
       "      <td>Product_1942</td>\n",
       "      <td>Product_1722</td>\n",
       "      <td>Product_0012</td>\n",
       "      <td>Product_1158</td>\n",
       "      <td>Product_0225</td>\n",
       "      <td>Product_1024</td>\n",
       "      <td>Product_2109</td>\n",
       "      <td>Product_1775</td>\n",
       "      <td>Product_0679</td>\n",
       "      <td>Product_0579</td>\n",
       "      <td>...</td>\n",
       "      <td>Product_0901</td>\n",
       "      <td>Product_1807</td>\n",
       "      <td>Product_1710</td>\n",
       "      <td>NaN</td>\n",
       "      <td>Product_0977</td>\n",
       "      <td>Product_1958</td>\n",
       "      <td>Product_0368</td>\n",
       "      <td>Product_1836</td>\n",
       "      <td>Product_1061</td>\n",
       "      <td>Product_1363</td>\n",
       "    </tr>\n",
       "    <tr>\n",
       "      <th>4</th>\n",
       "      <td>Product_0620</td>\n",
       "      <td>Product_1718</td>\n",
       "      <td>Product_1581</td>\n",
       "      <td>Product_1156</td>\n",
       "      <td>Product_0228</td>\n",
       "      <td>Product_0828</td>\n",
       "      <td>Product_2138</td>\n",
       "      <td>Product_1779</td>\n",
       "      <td>Product_0671</td>\n",
       "      <td>Product_0578</td>\n",
       "      <td>...</td>\n",
       "      <td>Product_0905</td>\n",
       "      <td>Product_1847</td>\n",
       "      <td>Product_1669</td>\n",
       "      <td>NaN</td>\n",
       "      <td>Product_0997</td>\n",
       "      <td>NaN</td>\n",
       "      <td>Product_1735</td>\n",
       "      <td>Product_1584</td>\n",
       "      <td>Product_1052</td>\n",
       "      <td>NaN</td>\n",
       "    </tr>\n",
       "    <tr>\n",
       "      <th>...</th>\n",
       "      <td>...</td>\n",
       "      <td>...</td>\n",
       "      <td>...</td>\n",
       "      <td>...</td>\n",
       "      <td>...</td>\n",
       "      <td>...</td>\n",
       "      <td>...</td>\n",
       "      <td>...</td>\n",
       "      <td>...</td>\n",
       "      <td>...</td>\n",
       "      <td>...</td>\n",
       "      <td>...</td>\n",
       "      <td>...</td>\n",
       "      <td>...</td>\n",
       "      <td>...</td>\n",
       "      <td>...</td>\n",
       "      <td>...</td>\n",
       "      <td>...</td>\n",
       "      <td>...</td>\n",
       "      <td>...</td>\n",
       "      <td>...</td>\n",
       "    </tr>\n",
       "    <tr>\n",
       "      <th>525</th>\n",
       "      <td>NaN</td>\n",
       "      <td>NaN</td>\n",
       "      <td>NaN</td>\n",
       "      <td>NaN</td>\n",
       "      <td>NaN</td>\n",
       "      <td>NaN</td>\n",
       "      <td>NaN</td>\n",
       "      <td>NaN</td>\n",
       "      <td>NaN</td>\n",
       "      <td>NaN</td>\n",
       "      <td>...</td>\n",
       "      <td>NaN</td>\n",
       "      <td>NaN</td>\n",
       "      <td>NaN</td>\n",
       "      <td>NaN</td>\n",
       "      <td>NaN</td>\n",
       "      <td>NaN</td>\n",
       "      <td>NaN</td>\n",
       "      <td>NaN</td>\n",
       "      <td>NaN</td>\n",
       "      <td>NaN</td>\n",
       "    </tr>\n",
       "    <tr>\n",
       "      <th>526</th>\n",
       "      <td>NaN</td>\n",
       "      <td>NaN</td>\n",
       "      <td>NaN</td>\n",
       "      <td>NaN</td>\n",
       "      <td>NaN</td>\n",
       "      <td>NaN</td>\n",
       "      <td>NaN</td>\n",
       "      <td>NaN</td>\n",
       "      <td>NaN</td>\n",
       "      <td>NaN</td>\n",
       "      <td>...</td>\n",
       "      <td>NaN</td>\n",
       "      <td>NaN</td>\n",
       "      <td>NaN</td>\n",
       "      <td>NaN</td>\n",
       "      <td>NaN</td>\n",
       "      <td>NaN</td>\n",
       "      <td>NaN</td>\n",
       "      <td>NaN</td>\n",
       "      <td>NaN</td>\n",
       "      <td>NaN</td>\n",
       "    </tr>\n",
       "    <tr>\n",
       "      <th>527</th>\n",
       "      <td>NaN</td>\n",
       "      <td>NaN</td>\n",
       "      <td>NaN</td>\n",
       "      <td>NaN</td>\n",
       "      <td>NaN</td>\n",
       "      <td>NaN</td>\n",
       "      <td>NaN</td>\n",
       "      <td>NaN</td>\n",
       "      <td>NaN</td>\n",
       "      <td>NaN</td>\n",
       "      <td>...</td>\n",
       "      <td>NaN</td>\n",
       "      <td>NaN</td>\n",
       "      <td>NaN</td>\n",
       "      <td>NaN</td>\n",
       "      <td>NaN</td>\n",
       "      <td>NaN</td>\n",
       "      <td>NaN</td>\n",
       "      <td>NaN</td>\n",
       "      <td>NaN</td>\n",
       "      <td>NaN</td>\n",
       "    </tr>\n",
       "    <tr>\n",
       "      <th>528</th>\n",
       "      <td>NaN</td>\n",
       "      <td>NaN</td>\n",
       "      <td>NaN</td>\n",
       "      <td>NaN</td>\n",
       "      <td>NaN</td>\n",
       "      <td>NaN</td>\n",
       "      <td>NaN</td>\n",
       "      <td>NaN</td>\n",
       "      <td>NaN</td>\n",
       "      <td>NaN</td>\n",
       "      <td>...</td>\n",
       "      <td>NaN</td>\n",
       "      <td>NaN</td>\n",
       "      <td>NaN</td>\n",
       "      <td>NaN</td>\n",
       "      <td>NaN</td>\n",
       "      <td>NaN</td>\n",
       "      <td>NaN</td>\n",
       "      <td>NaN</td>\n",
       "      <td>NaN</td>\n",
       "      <td>NaN</td>\n",
       "    </tr>\n",
       "    <tr>\n",
       "      <th>529</th>\n",
       "      <td>NaN</td>\n",
       "      <td>NaN</td>\n",
       "      <td>NaN</td>\n",
       "      <td>NaN</td>\n",
       "      <td>NaN</td>\n",
       "      <td>NaN</td>\n",
       "      <td>NaN</td>\n",
       "      <td>NaN</td>\n",
       "      <td>NaN</td>\n",
       "      <td>NaN</td>\n",
       "      <td>...</td>\n",
       "      <td>NaN</td>\n",
       "      <td>NaN</td>\n",
       "      <td>NaN</td>\n",
       "      <td>NaN</td>\n",
       "      <td>NaN</td>\n",
       "      <td>NaN</td>\n",
       "      <td>NaN</td>\n",
       "      <td>NaN</td>\n",
       "      <td>NaN</td>\n",
       "      <td>NaN</td>\n",
       "    </tr>\n",
       "  </tbody>\n",
       "</table>\n",
       "<p>530 rows × 30 columns</p>\n",
       "</div>"
      ],
      "text/plain": [
       "     Category_001  Category_003  Category_005  Category_006  Category_007  \\\n",
       "0    Product_1751  Product_1726  Product_0033  Product_1825  Product_0229   \n",
       "1    Product_0613  Product_1724  Product_0470  Product_1812  Product_0202   \n",
       "2    Product_0627  Product_1719  Product_1970  Product_0936  Product_0200   \n",
       "3    Product_1942  Product_1722  Product_0012  Product_1158  Product_0225   \n",
       "4    Product_0620  Product_1718  Product_1581  Product_1156  Product_0228   \n",
       "..            ...           ...           ...           ...           ...   \n",
       "525           NaN           NaN           NaN           NaN           NaN   \n",
       "526           NaN           NaN           NaN           NaN           NaN   \n",
       "527           NaN           NaN           NaN           NaN           NaN   \n",
       "528           NaN           NaN           NaN           NaN           NaN   \n",
       "529           NaN           NaN           NaN           NaN           NaN   \n",
       "\n",
       "     Category_008  Category_009  Category_010  Category_011  Category_012  \\\n",
       "0    Product_0119  Product_2143  Product_1777  Product_0658  Product_0439   \n",
       "1    Product_0827  Product_2111  Product_1776  Product_0125  Product_0510   \n",
       "2    Product_0149  Product_2114  Product_1778  Product_0431  Product_0570   \n",
       "3    Product_1024  Product_2109  Product_1775  Product_0679  Product_0579   \n",
       "4    Product_0828  Product_2138  Product_1779  Product_0671  Product_0578   \n",
       "..            ...           ...           ...           ...           ...   \n",
       "525           NaN           NaN           NaN           NaN           NaN   \n",
       "526           NaN           NaN           NaN           NaN           NaN   \n",
       "527           NaN           NaN           NaN           NaN           NaN   \n",
       "528           NaN           NaN           NaN           NaN           NaN   \n",
       "529           NaN           NaN           NaN           NaN           NaN   \n",
       "\n",
       "     ...  Category_023  Category_024  Category_026  Category_027  \\\n",
       "0    ...  Product_0891  Product_1618  Product_1208  Product_2147   \n",
       "1    ...  Product_0890  Product_1646  Product_1659  Product_0647   \n",
       "2    ...  Product_0893  Product_1794  Product_1674           NaN   \n",
       "3    ...  Product_0901  Product_1807  Product_1710           NaN   \n",
       "4    ...  Product_0905  Product_1847  Product_1669           NaN   \n",
       "..   ...           ...           ...           ...           ...   \n",
       "525  ...           NaN           NaN           NaN           NaN   \n",
       "526  ...           NaN           NaN           NaN           NaN   \n",
       "527  ...           NaN           NaN           NaN           NaN   \n",
       "528  ...           NaN           NaN           NaN           NaN   \n",
       "529  ...           NaN           NaN           NaN           NaN   \n",
       "\n",
       "     Category_028  Category_029  Category_030  Category_031  Category_032  \\\n",
       "0    Product_0643  Product_1957  Product_0551  Product_1816  Product_1101   \n",
       "1    Product_0982  Product_1960  Product_0556  Product_1815  Product_0588   \n",
       "2    Product_0987  Product_1959  Product_0411  Product_1837  Product_0583   \n",
       "3    Product_0977  Product_1958  Product_0368  Product_1836  Product_1061   \n",
       "4    Product_0997           NaN  Product_1735  Product_1584  Product_1052   \n",
       "..            ...           ...           ...           ...           ...   \n",
       "525           NaN           NaN           NaN           NaN           NaN   \n",
       "526           NaN           NaN           NaN           NaN           NaN   \n",
       "527           NaN           NaN           NaN           NaN           NaN   \n",
       "528           NaN           NaN           NaN           NaN           NaN   \n",
       "529           NaN           NaN           NaN           NaN           NaN   \n",
       "\n",
       "     Category_033  \n",
       "0    Product_1282  \n",
       "1    Product_1362  \n",
       "2    Product_1361  \n",
       "3    Product_1363  \n",
       "4             NaN  \n",
       "..            ...  \n",
       "525           NaN  \n",
       "526           NaN  \n",
       "527           NaN  \n",
       "528           NaN  \n",
       "529           NaN  \n",
       "\n",
       "[530 rows x 30 columns]"
      ]
     },
     "metadata": {},
     "output_type": "display_data"
    }
   ],
   "source": [
    "# Get unique product codes for each category\n",
    "category_product_map = df.groupby(\"Product_Category\")[\"Product_Code\"].unique()\n",
    "\n",
    "# Convert to dictionary (as lists)\n",
    "product_lists = {category: list(products) for category, products in category_product_map.items()}\n",
    "\n",
    "# Create a dataframe from the lists\n",
    "category_product_df = pd.DataFrame(dict([(k, pd.Series(v)) for k, v in product_lists.items()]))\n",
    "\n",
    "# Export to Excel\n",
    "#category_product_df.to_excel(\"category_table.xlsx\", index=False)\n",
    "\n",
    "# Display the table in Jupyter Notebook\n",
    "display(category_product_df)"
   ]
  },
  {
   "cell_type": "markdown",
   "id": "ae3c5136-aaaa-445d-933d-7d8767bbb8f0",
   "metadata": {},
   "source": [
    "### 🧾 Product Category Overview\n",
    "\n",
    "The dataset includes a total of **30 distinct product categories**, representing the company’s diverse range of offerings across different product types.\n",
    "\n",
    "Across these 30 categories, the company manages **2,117 unique products**, each identified by a unique product code. These codes allow for consistent tracking and grouping of products over time.\n",
    "\n",
    "To support deeper analysis, a detailed **category-product mapping table** has been created.  \n",
    "This table shows **which products belong to which categories**, with each category represented as a column and its associated products listed underneath.\n",
    "\n",
    "The table has been exported to an Excel file and can be shared with relevant stakeholders for inventory management, category-based planning, or product portfolio analysis."
   ]
  },
  {
   "cell_type": "markdown",
   "id": "f0f629ac-1135-4691-9a21-58a51bf7c76b",
   "metadata": {},
   "source": [
    "### Product - Demand Analysis"
   ]
  },
  {
   "cell_type": "code",
   "execution_count": 30,
   "id": "098c5a40-d9bd-4426-8085-3b47f98f4cc0",
   "metadata": {},
   "outputs": [
    {
     "data": {
      "text/plain": [
       "Product_Code\n",
       "Product_1359    35525000\n",
       "Product_1295    20232200\n",
       "Product_1286    16949500\n",
       "Product_1287    15188500\n",
       "Product_1378    14999000\n",
       "Product_1382    14994800\n",
       "Product_1294    13507800\n",
       "Product_1248    13010000\n",
       "Product_1453    12791100\n",
       "Product_1274    11796000\n",
       "Name: Order_Demand, dtype: int64"
      ]
     },
     "metadata": {},
     "output_type": "display_data"
    }
   ],
   "source": [
    "top_products = df.groupby(\"Product_Code\")[\"Order_Demand\"].sum().sort_values(ascending=False)\n",
    "display(top_products.head(10))"
   ]
  },
  {
   "cell_type": "code",
   "execution_count": 31,
   "id": "fba9205e-1a3c-449c-9ae9-2910a902f6e5",
   "metadata": {},
   "outputs": [
    {
     "data": {
      "image/png": "[encoded data removed]",
      "text/plain": [
       "<Figure size 1000x500 with 1 Axes>"
      ]
     },
     "metadata": {},
     "output_type": "display_data"
    }
   ],
   "source": [
    "top_products.head(10).plot(kind=\"bar\", figsize=(10,5), edgecolor=\"black\")\n",
    "plt.title(\"Top 10 Most Demanded Products\")\n",
    "plt.xlabel(\"Product Code\")\n",
    "plt.ylabel(\"Total Order Demand\")\n",
    "plt.xticks(rotation=45)\n",
    "plt.grid(axis=\"y\", linestyle=\"--\", alpha=0.7)\n",
    "plt.tight_layout()\n",
    "#plt.savefig(\"most_demanded_products.png\", dpi=300, bbox_inches='tight') \n",
    "plt.show()"
   ]
  },
  {
   "cell_type": "code",
   "execution_count": 32,
   "id": "ecc9ac70-fe43-4431-a6e6-8cd25e252510",
   "metadata": {},
   "outputs": [
    {
     "name": "stdout",
     "output_type": "stream",
     "text": [
      "Top 10 products account for 30.32% of total demand\n"
     ]
    }
   ],
   "source": [
    "top_10_total = top_products.head(10).sum()\n",
    "overall_total = top_products.sum()\n",
    "percentage = top_10_total / overall_total * 100\n",
    "print(f\"Top 10 products account for {percentage:.2f}% of total demand\")"
   ]
  },
  {
   "cell_type": "markdown",
   "id": "8103019b-3704-4b45-b37a-973a24ad58c7",
   "metadata": {},
   "source": [
    "### Monthly Demand Trend"
   ]
  },
  {
   "cell_type": "code",
   "execution_count": 34,
   "id": "a861b1f6-ec52-4dc2-b896-c4900aefb24d",
   "metadata": {},
   "outputs": [],
   "source": [
    "df = df.copy()\n",
    "df[\"Month\"] = df[\"Date\"].dt.to_period(\"M\") # Adding month column "
   ]
  },
  {
   "cell_type": "code",
   "execution_count": 35,
   "id": "0a6df4c0-bdcc-4621-b895-ea2615db6001",
   "metadata": {},
   "outputs": [
    {
     "data": {
      "text/plain": [
       "Month\n",
       "2016-01    45755119\n",
       "2016-02    47923041\n",
       "2016-03    55945260\n",
       "2016-04    52396864\n",
       "2016-05    48477393\n",
       "2016-06    53894711\n",
       "2016-07    51906836\n",
       "2016-08    52218772\n",
       "2016-09    53482796\n",
       "2016-10    52138957\n",
       "2016-11    43157433\n",
       "Freq: M, Name: Order_Demand, dtype: int64"
      ]
     },
     "metadata": {},
     "output_type": "display_data"
    }
   ],
   "source": [
    "monthly_demand = df.groupby(\"Month\")[\"Order_Demand\"].sum()\n",
    "display(monthly_demand)"
   ]
  },
  {
   "cell_type": "code",
   "execution_count": 36,
   "id": "acd482c1-5bd4-4d79-af3e-485ef8717606",
   "metadata": {},
   "outputs": [
    {
     "data": {
      "image/png": "[encoded data removed]",
      "text/plain": [
       "<Figure size 1000x500 with 1 Axes>"
      ]
     },
     "metadata": {},
     "output_type": "display_data"
    }
   ],
   "source": [
    "plt.figure(figsize=(10,5))\n",
    "monthly_demand.plot(kind=\"line\", marker=\"o\", linewidth=2)\n",
    "plt.title(\"Monthly Total Order Demand\")\n",
    "plt.xlabel(\"Month\")\n",
    "plt.ylabel(\"Total Order Quantity\")\n",
    "plt.grid(axis=\"y\", linestyle=\"--\", alpha=0.7)\n",
    "plt.tight_layout()\n",
    "#plt.savefig(\"monthly_demand.png\", dpi=300, bbox_inches='tight') \n",
    "plt.show()"
   ]
  },
  {
   "cell_type": "markdown",
   "id": "88409f83-9005-4ead-a05f-15e0a1c580c3",
   "metadata": {},
   "source": [
    "### 📈 Monthly Demand Trend Analysis\n",
    "\n",
    "To understand seasonal patterns and support inventory planning, the total product demand was analyzed on a monthly basis.\n",
    "\n",
    "The dataset spans from **January to November 2016**, and outliers in the `Order_Demand` column were removed prior to analysis to ensure accurate trend detection.\n",
    "\n",
    "**Key Observations:**\n",
    "- 📌 **March** recorded the **highest total demand**, suggesting a peak season or campaign period.\n",
    "- 📉 A significant **drop occurred in May**, potentially indicating a post-season slowdown or reduced market activity.\n",
    "- 📊 **June to October** showed relatively **stable demand**, representing a consistent performance period.\n",
    "- ⚠️ **November** had the lowest demand, likely due to **incomplete data** (only covering up to November 23) and should be interpreted with caution.\n",
    "\n",
    "This monthly trend provides valuable insight for **seasonal forecasting**, **warehouse planning**, and **supply chain optimization**."
   ]
  },
  {
   "cell_type": "markdown",
   "id": "26272d57-5534-43c2-936a-871961081abe",
   "metadata": {},
   "source": [
    "### Promotion - Demand Relationship"
   ]
  },
  {
   "cell_type": "markdown",
   "id": "d353a20b-d93c-4c07-8d3a-ff39dd045811",
   "metadata": {},
   "source": [
    "Promotions were excluded from the final report due to unclear impact and limited interpretability."
   ]
  },
  {
   "cell_type": "markdown",
   "id": "d21184bc-66fe-4de3-a6e7-648f8e6d9d5c",
   "metadata": {},
   "source": [
    "### Warehouse-based Demand Analysis"
   ]
  },
  {
   "cell_type": "code",
   "execution_count": 41,
   "id": "e53d77ca-747c-4db7-84a3-1f59960df5b5",
   "metadata": {},
   "outputs": [
    {
     "data": {
      "text/plain": [
       "Warehouse\n",
       "Whse_J    441366616\n",
       "Whse_C     48561519\n",
       "Whse_S     42537059\n",
       "Whse_A     24831988\n",
       "Name: Order_Demand, dtype: int64"
      ]
     },
     "metadata": {},
     "output_type": "display_data"
    }
   ],
   "source": [
    "warehouse_demand = df.groupby(\"Warehouse\")[\"Order_Demand\"].sum().sort_values(ascending=False)\n",
    "display(warehouse_demand)"
   ]
  },
  {
   "cell_type": "code",
   "execution_count": 42,
   "id": "b8ef2537-5847-47ec-8fde-04a00692424e",
   "metadata": {},
   "outputs": [
    {
     "data": {
      "image/png": "[encoded data removed]",
      "text/plain": [
       "<Figure size 800x500 with 1 Axes>"
      ]
     },
     "metadata": {},
     "output_type": "display_data"
    }
   ],
   "source": [
    "plt.figure(figsize=(8,5))\n",
    "warehouse_demand.plot(kind=\"bar\", edgecolor=\"black\")\n",
    "plt.title(\"Total Order Demand by Warehouse\")\n",
    "plt.xlabel(\"Warehouse\")\n",
    "plt.ylabel(\"Total Order Quantity\")\n",
    "plt.xticks(rotation=0)\n",
    "plt.grid(axis='y', linestyle='--', alpha=0.7)\n",
    "plt.tight_layout()\n",
    "#plt.savefig(\"warehouse_demand.png\", dpi=300, bbox_inches='tight') \n",
    "plt.show()"
   ]
  },
  {
   "cell_type": "code",
   "execution_count": 43,
   "id": "e9ee8b9b-c0b8-472d-808f-80c5851224b3",
   "metadata": {},
   "outputs": [
    {
     "data": {
      "text/plain": [
       "Warehouse\n",
       "Whse_J    79.197712\n",
       "Whse_C     8.713756\n",
       "Whse_S     7.632743\n",
       "Whse_A     4.455789\n",
       "Name: Order_Demand, dtype: float64"
      ]
     },
     "metadata": {},
     "output_type": "display_data"
    }
   ],
   "source": [
    "warehouse_share = (warehouse_demand / warehouse_demand.sum()) * 100\n",
    "display(warehouse_share)"
   ]
  },
  {
   "cell_type": "code",
   "execution_count": 44,
   "id": "179ccc5a-70c2-4cfe-857b-57a7875af0c4",
   "metadata": {},
   "outputs": [
    {
     "data": {
      "image/png": "[encoded data removed]",
      "text/plain": [
       "<Figure size 600x600 with 1 Axes>"
      ]
     },
     "metadata": {},
     "output_type": "display_data"
    }
   ],
   "source": [
    "warehouse_share = {\n",
    "    'Whse_J': 79.197712,\n",
    "    'Whse_C': 8.713756,\n",
    "    'Whse_S': 7.632743,\n",
    "    'Whse_A': 4.455789\n",
    "}\n",
    "\n",
    "# Pie chart \n",
    "plt.figure(figsize=(6,6))\n",
    "plt.pie(warehouse_share.values(), labels=warehouse_share.keys(), autopct='%1.1f%%', startangle=90)\n",
    "plt.title(\"Warehouse Demand Distribution\")\n",
    "plt.axis('equal')  # Daire şeklinde çizim için\n",
    "plt.tight_layout()\n",
    "#plt.savefig(\"warehouse_demand_pie.png\", dpi=300, bbox_inches='tight') \n",
    "plt.show()"
   ]
  },
  {
   "cell_type": "markdown",
   "id": "347a386f-772e-4acb-bc84-0bc17fd9f94a",
   "metadata": {},
   "source": [
    "### 🏬 Warehouse Demand Distribution\n",
    "\n",
    "An analysis of total order demand by warehouse revealed a significant imbalance:\n",
    "\n",
    "- **Whse_J** handled approximately **79.2%** of all orders, making it the company's primary distribution hub.\n",
    "- The remaining three warehouses (Whse_C, Whse_S, Whse_A) together contributed only **20.8%** of total demand.\n",
    "\n",
    "This centralization may indicate operational efficiency, but also raises concerns about over-reliance on a single facility and potential risk in the event of disruptions.\n",
    "\n",
    "These findings can support decisions related to **load balancing**, **logistics planning**, and **capacity investment** across warehouses."
   ]
  },
  {
   "cell_type": "markdown",
   "id": "4380a3dc-0f08-4a90-a203-3c59dc6b6901",
   "metadata": {},
   "source": [
    "### Holiday Impact on Demand"
   ]
  },
  {
   "cell_type": "markdown",
   "id": "3d6310e0-41db-4569-a902-82b9a464d1b3",
   "metadata": {},
   "source": [
    "State holiday analysis was excluded from the final report due to limited data coverage and marginal differences in average demand, which made interpretation and business actionability inconclusive."
   ]
  },
  {
   "cell_type": "markdown",
   "id": "f524c76a-be86-4e73-8f92-cfce780efc78",
   "metadata": {},
   "source": [
    "### Daily Demand Analysis "
   ]
  },
  {
   "cell_type": "code",
   "execution_count": 49,
   "id": "ed3e17bc-26a8-430b-a492-ad2e86e365cf",
   "metadata": {},
   "outputs": [
    {
     "data": {
      "text/plain": [
       "Product_Code\n",
       "Product_1359    125088.028169\n",
       "Product_1295     71240.140845\n",
       "Product_1286     59681.338028\n",
       "Product_1287     53480.633803\n",
       "Product_1378     52813.380282\n",
       "                    ...      \n",
       "Product_0527         0.010563\n",
       "Product_0465         0.010563\n",
       "Product_1944         0.010563\n",
       "Product_1647         0.003521\n",
       "Product_1698         0.003521\n",
       "Name: Order_Demand, Length: 2117, dtype: float64"
      ]
     },
     "execution_count": 49,
     "metadata": {},
     "output_type": "execute_result"
    }
   ],
   "source": [
    "avg_daily_demand = df.groupby(\"Product_Code\")[\"Order_Demand\"].sum() / df[\"Date\"].nunique()\n",
    "avg_daily_demand = avg_daily_demand.sort_values(ascending=False)\n",
    "avg_daily_demand"
   ]
  },
  {
   "cell_type": "code",
   "execution_count": 50,
   "id": "88ce4086-fb24-4e70-8240-69c624e6513f",
   "metadata": {},
   "outputs": [
    {
     "data": {
      "text/plain": [
       "Product_Code\n",
       "Product_1359    A\n",
       "Product_1295    A\n",
       "Product_1286    A\n",
       "Product_1287    A\n",
       "Product_1378    A\n",
       "               ..\n",
       "Product_0527    C\n",
       "Product_0465    C\n",
       "Product_1944    C\n",
       "Product_1647    C\n",
       "Product_1698    C\n",
       "Name: Order_Demand, Length: 2117, dtype: object"
      ]
     },
     "execution_count": 50,
     "metadata": {},
     "output_type": "execute_result"
    }
   ],
   "source": [
    "total_demand = avg_daily_demand.sum()\n",
    "cumulative_share = avg_daily_demand.cumsum() / total_demand\n",
    "\n",
    "abc_class = cumulative_share.apply(lambda x: \"A\" if x <= 0.8 else (\"B\" if x <= 0.95 else \"C\"))\n",
    "abc_class"
   ]
  },
  {
   "cell_type": "code",
   "execution_count": 51,
   "id": "fc6d6d3b-a453-4ea1-b9b2-8a3fda20ec2f",
   "metadata": {},
   "outputs": [],
   "source": [
    "#abc_class_df = abc_class.to_frame(name=\"ABC_Class\")\n",
    "#abc_class_df.to_excel(\"abc_classification.xlsx\")"
   ]
  },
  {
   "cell_type": "code",
   "execution_count": 52,
   "id": "145b4ddc-5f5a-4063-ab33-f8eed2d19dbd",
   "metadata": {},
   "outputs": [
    {
     "data": {
      "image/png": "[encoded data removed]",
      "text/plain": [
       "<Figure size 600x600 with 1 Axes>"
      ]
     },
     "metadata": {},
     "output_type": "display_data"
    }
   ],
   "source": [
    "abc_counts = abc_class.value_counts()\n",
    "\n",
    "abc_counts.plot(kind=\"pie\", autopct='%1.1f%%', startangle=90, figsize=(6,6))\n",
    "plt.title(\"ABC Classification of Products\")\n",
    "plt.ylabel(\"\")\n",
    "#plt.savefig(\"abc_classification.png\", dpi=300, bbox_inches='tight') \n",
    "plt.show()"
   ]
  },
  {
   "cell_type": "markdown",
   "id": "46b083d4-3765-4689-aea9-982d52cfdc7c",
   "metadata": {},
   "source": [
    "📦 ABC Classification – Inventory Prioritization\n",
    "\n",
    "Based on average daily demand, all 2,117 products were categorized using the ABC analysis method:\n",
    "\n",
    "- **A-class (High priority):** Represents ~6% of products, but accounts for ~80% of total demand. These products are critical and should always be in stock.\n",
    "- **B-class (Medium priority):** Around 10% of products, contributing ~15% of total demand. They should be monitored and stocked efficiently.\n",
    "- **C-class (Low priority):** Makes up ~83% of products, but contributes less than 5% of demand. These products can be considered for reduced stocking or made-to-order strategies.\n",
    "\n",
    "This classification helps focus inventory planning on a smaller set of high-impact products, optimizing space, cost, and service levels."
   ]
  },
  {
   "cell_type": "markdown",
   "id": "ddc10e4e-8a07-4b76-b4e2-912b18351a89",
   "metadata": {},
   "source": [
    "### Monthly Product Demand per Warehouse"
   ]
  },
  {
   "cell_type": "code",
   "execution_count": 55,
   "id": "f2739463-de9e-4ee5-8ab2-101541a2a83f",
   "metadata": {},
   "outputs": [],
   "source": [
    "pivot = df.pivot_table(\n",
    "    index=[\"Product_Code\", \"Month\"],\n",
    "    columns=\"Warehouse\",\n",
    "    values=\"Order_Demand\",\n",
    "    aggfunc=\"sum\"\n",
    ").fillna(0)"
   ]
  },
  {
   "cell_type": "code",
   "execution_count": 56,
   "id": "faee00de-3cae-4efc-8c8a-586d6481c976",
   "metadata": {},
   "outputs": [],
   "source": [
    "#pivot.to_excel(\"warehouse_product_monthly_demand.xlsx\")"
   ]
  },
  {
   "cell_type": "markdown",
   "id": "8f3fb792-8a4f-42f8-8f0b-1563d1c66d2f",
   "metadata": {},
   "source": [
    "### 📦 Monthly Product Demand per Warehouse\n",
    "\n",
    "To support inventory placement and warehouse-level stock optimization, a detailed pivot table was created showing monthly order demand per product across all four warehouses.\n",
    "\n",
    "The table provides:\n",
    "- Monthly breakdown of demand for each product\n",
    "- Comparative demand across warehouses (Whse_J, Whse_A, Whse_C, Whse_S)\n",
    "- Insights for identifying which products are most in demand at which locations\n",
    "\n",
    "This dataset is crucial for making data-driven decisions regarding:\n",
    "- Warehouse-specific stock allocation\n",
    "- Inter-warehouse transfers\n",
    "- Regionally tailored inventory strategies\n",
    "\n",
    "The full pivot table has been exported to Excel for further exploration and visual reporting."
   ]
  },
  {
   "cell_type": "markdown",
   "id": "8f47130a-6a50-4b53-9751-e2e2cf86be60",
   "metadata": {},
   "source": [
    "### ✅ Final Deliverables & Business Usage\n",
    "\n",
    "This analysis provides actionable insights and tools to support inventory decisions, warehouse planning, and product prioritization.  \n",
    "The following deliverables can be used immediately by the company in day-to-day operations:\n",
    "\n",
    "---\n",
    "\n",
    "📁 **1. Category Table (Excel)**  \n",
    "→ Shows which products belong to which product category  \n",
    "✅ Use case: Quickly identify all products under any specific category for category-based planning, promotions, or reporting.\n",
    "\n",
    "---\n",
    "\n",
    "📁 **2. ABC Classification (Excel)**  \n",
    "→ Categorizes each product into A (critical), B (moderate), or C (low) class based on its demand volume  \n",
    "✅ Use case:  \n",
    "- Focus stocking efforts on A-class products  \n",
    "- Monitor B-class products regularly  \n",
    "- Consider reducing or removing C-class products to save storage and cost\n",
    "\n",
    "---\n",
    "\n",
    "📁 **3. Product–Warehouse–Month Demand Matrix (Excel)**  \n",
    "→ Provides monthly demand of each product, broken down by warehouse  \n",
    "✅ Use case:  \n",
    "- Identify which warehouse needs stock of which product and when  \n",
    "- Optimize inventory placement  \n",
    "- Support inter-warehouse transfers based on actual demand  \n",
    "- Plan warehouse-specific replenishment strategies\n",
    "\n",
    "---\n",
    "\n",
    "📊 **4. Top 10 Most Demanded Products (Bar Chart)**  \n",
    "✅ Use case: Visual reference for the company's best-performing products.  \n",
    "Focus efforts on production, marketing, and inventory for these items.\n",
    "\n",
    "---\n",
    "\n",
    "📊 **5. Monthly Total Demand Trend (Line Chart)**  \n",
    "✅ Use case: Understand seasonal demand patterns  \n",
    "Plan production and procurement based on historical peak and low seasons.\n",
    "\n",
    "---\n",
    "\n",
    "📊 **6. Total Demand by Warehouse (Bar Chart)**  \n",
    "✅ Use case: Assess operational load on each warehouse  \n",
    "Redistribute load if one location is overloaded (e.g., Whse_J handles ~79% of all orders)\n",
    "\n",
    "---\n",
    "\n",
    "📌 These insights can directly support:\n",
    "\n",
    "- Inventory reduction without losing sales  \n",
    "- More balanced warehouse usage  \n",
    "- Better planning of high-demand periods  \n",
    "- Efficient stock prioritization\n",
    "\n",
    "All files have been exported in Excel and can be easily shared with warehouse managers, supply chain teams, and decision-makers."
   ]
  },
  {
   "cell_type": "code",
   "execution_count": null,
   "id": "3f413103-76b0-4015-b34a-2cddc4267bdc",
   "metadata": {},
   "outputs": [],
   "source": []
  }
 ],
 "metadata": {
  "kernelspec": {
   "display_name": "Python [conda env:base] *",
   "language": "python",
   "name": "conda-base-py"
  },
  "language_info": {
   "codemirror_mode": {
    "name": "ipython",
    "version": 3
   },
   "file_extension": ".py",
   "mimetype": "text/x-python",
   "name": "python",
   "nbconvert_exporter": "python",
   "pygments_lexer": "ipython3",
   "version": "3.12.7"
  }
 },
 "nbformat": 4,
 "nbformat_minor": 5
}
